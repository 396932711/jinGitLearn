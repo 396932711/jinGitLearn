{
 "cells": [
  {
   "cell_type": "code",
   "execution_count": 11,
   "metadata": {
    "collapsed": false
   },
   "outputs": [
    {
     "data": {
      "text/plain": [
       "(150, 2)"
      ]
     },
     "execution_count": 11,
     "metadata": {},
     "output_type": "execute_result"
    }
   ],
   "source": [
    "import matplotlib.pyplot as plt\n",
    "import numpy as np\n",
    "\n",
    "from sklearn.linear_model import LogisticRegression\n",
    "from sklearn.svm import SVC\n",
    "#高斯\n",
    "from sklearn.gaussian_process import GaussianProcessClassifier\n",
    "#神经网络\n",
    "from sklearn.gaussian_process.kernels import RBF\n",
    "from sklearn import datasets\n",
    "\n",
    "iris = datasets.load_iris() #type:sklearn.datasets.base.Bunch\n",
    "\n",
    "X = iris.data[:, 0:2] #type: numpy.ndarray\n",
    "Y = iris.target;\n",
    "\n",
    "#X.shape  (150,2)\n",
    "\n",
    "n_features = X.shape[1] #获取特征数量\n"
   ]
  },
  {
   "cell_type": "code",
   "execution_count": 13,
   "metadata": {
    "collapsed": false
   },
   "outputs": [],
   "source": [
    "#创建不同的分类器\n",
    "\n",
    "C = 1.0\n",
    "kernel = 1.0 * RBF([1.0, 1.0])  # for GPC\n",
    "#C 正则化系数λ的倒数，float类型，默认为1.0。必须是正浮点型数。像SVM一样，越小的数值表示越强的正则化\n",
    "#penalty 惩罚项\n",
    "#probality :是否采用概率估计？.默认为False\n",
    "classifiers = {'L1 logistic': LogisticRegression(C=C, penalty='l1'),\n",
    "               'L2 logistic': LogisticRegression(C=C, penalty=\"L2\"),\n",
    "               'Linear SVC' : SVC(C=C, kernel=\"linear\", probability=True, random_state=0),\n",
    "               \"L2 logistic (multinomial) \" : LogisticRegression(C=C, solver='lbfgs', multi_class='multinomal'),\n",
    "               \"GPC\":GaussianProcessClassifier(kernel)\n",
    "              }\n",
    "n_classifiers = len(classifiers)\n",
    "plt.figure(figsize=(3*2, n_classifiers*2))\n",
    "plt.subplots_adjust(bottom=.2, top=.96)\n"
   ]
  },
  {
   "cell_type": "code",
   "execution_count": 22,
   "metadata": {
    "collapsed": false
   },
   "outputs": [
    {
     "data": {
      "text/plain": [
       "array([ 1.        ,  1.04040404,  1.08080808,  1.12121212,  1.16161616,\n",
       "        1.2020202 ,  1.24242424,  1.28282828,  1.32323232,  1.36363636,\n",
       "        1.4040404 ,  1.44444444,  1.48484848,  1.52525253,  1.56565657,\n",
       "        1.60606061,  1.64646465,  1.68686869,  1.72727273,  1.76767677,\n",
       "        1.80808081,  1.84848485,  1.88888889,  1.92929293,  1.96969697,\n",
       "        2.01010101,  2.05050505,  2.09090909,  2.13131313,  2.17171717,\n",
       "        2.21212121,  2.25252525,  2.29292929,  2.33333333,  2.37373737,\n",
       "        2.41414141,  2.45454545,  2.49494949,  2.53535354,  2.57575758,\n",
       "        2.61616162,  2.65656566,  2.6969697 ,  2.73737374,  2.77777778,\n",
       "        2.81818182,  2.85858586,  2.8989899 ,  2.93939394,  2.97979798,\n",
       "        3.02020202,  3.06060606,  3.1010101 ,  3.14141414,  3.18181818,\n",
       "        3.22222222,  3.26262626,  3.3030303 ,  3.34343434,  3.38383838,\n",
       "        3.42424242,  3.46464646,  3.50505051,  3.54545455,  3.58585859,\n",
       "        3.62626263,  3.66666667,  3.70707071,  3.74747475,  3.78787879,\n",
       "        3.82828283,  3.86868687,  3.90909091,  3.94949495,  3.98989899,\n",
       "        4.03030303,  4.07070707,  4.11111111,  4.15151515,  4.19191919,\n",
       "        4.23232323,  4.27272727,  4.31313131,  4.35353535,  4.39393939,\n",
       "        4.43434343,  4.47474747,  4.51515152,  4.55555556,  4.5959596 ,\n",
       "        4.63636364,  4.67676768,  4.71717172,  4.75757576,  4.7979798 ,\n",
       "        4.83838384,  4.87878788,  4.91919192,  4.95959596,  5.        ])"
      ]
     },
     "execution_count": 22,
     "metadata": {},
     "output_type": "execute_result"
    }
   ],
   "source": [
    "xx = np.linspace(3,9,100) # 取3-9之前100个数\n",
    "yy = np.linspace(1,5,100)\n",
    "yy"
   ]
  },
  {
   "cell_type": "code",
   "execution_count": 24,
   "metadata": {
    "collapsed": false
   },
   "outputs": [
    {
     "data": {
      "text/plain": [
       "(100,)"
      ]
     },
     "execution_count": 24,
     "metadata": {},
     "output_type": "execute_result"
    }
   ],
   "source": [
    "yy."
   ]
  },
  {
   "cell_type": "code",
   "execution_count": null,
   "metadata": {
    "collapsed": true
   },
   "outputs": [],
   "source": []
  }
 ],
 "metadata": {
  "kernelspec": {
   "display_name": "Python 3",
   "language": "python",
   "name": "python3"
  },
  "language_info": {
   "codemirror_mode": {
    "name": "ipython",
    "version": 3
   },
   "file_extension": ".py",
   "mimetype": "text/x-python",
   "name": "python",
   "nbconvert_exporter": "python",
   "pygments_lexer": "ipython3",
   "version": "3.6.0"
  }
 },
 "nbformat": 4,
 "nbformat_minor": 2
}
